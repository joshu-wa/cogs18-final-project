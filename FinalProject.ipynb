{
 "cells": [
  {
   "cell_type": "markdown",
   "id": "ad8a9450",
   "metadata": {},
   "source": [
    "# Final Project: WanderBot Mk II\n",
    "\n",
    "GitHub Repository: https://github.com/joshu-wa/cogs18-final-project\n",
    "\n",
    "This project builds upon the `WanderBot` class and `play_board` function in assignment A4. Here, the `WanderBot` is expanded upon with more sophisticated behaviors, and `play_board` is now an object function of the `GridBoard` class, which has new features, such as walls and food.\n",
    "\n",
    "With these changes, the code now behaves as a sort of \"survival game\", where individual bots wander around to collect food to level up and \"eat\" other bots and take their levels. Each bot has a vision that matches their immediate movement options; in other words, the bots are now informed of what the spaces they can immediately move to each contain. This allows them to avoid moving into walls, and prioritize eating food that is directly adjacent to them (using the standard movement of a single space up, down, left, or right).\n",
    "\n",
    "## Changes/Additions\n",
    "\n",
    "- `WanderBot`s now choose between \"preferred moves\" rather than randomly choosing any move that does not take them out of bounds.\n",
    "    - \"Preferred moves\" prioritize adjacent food spaces and avoid walls and other bots with the same level.\n",
    "- `WanderBot`s now have a `level` stat that can be increased by eating food on the map, as well as other bots.\n",
    "- `WanderBot`s can now \"eat\" each other and steal levels in doing so, possible only if one bot has a higher level than the other.\n",
    "- The `GridBoard` class now handles grid generation with walls and food, and allows users to pass in premade grids rather than randomly generating them.\n",
    "- `GridBoard`s can clear their grids of bots, and also add food in random empty spaces when necessary or specified.\n",
    "- The `GridBoard`'s `play_board` function now notifies each bot of its surroundings, and handles the events of eating food or other bots.\n",
    "    - Bots are now randomly placed at an empty space in the grid all at once instead of all at `[0,0]` across the first couple of intervals.\n",
    "    - The function also can generate specified amounts of food on the map at specified intervals.\n",
    "    - At the end of `play_board`, the remaining bots who have not been eaten are announced, along with their levels.\n",
    "\n",
    "## Limitations/Considerations\n",
    "\n",
    "- Because it iterates through the bots using a list, `play_board` is susceptible to favoring the first bots in the list, as they get to act first and thus access food/spaces first.\n",
    "- Bots do not avoid/chase after other bots (unless they are the same level to avoid overlapping) because there would possibly be an uninteresting result of cat-and-mouse, as well as the complications of favoring the first bots even further.\n",
    "- Movement is still largely random and can still produce uninteresting results depending on luck.\n",
    "- Bots cannot share the same character, and premade grids should follow the standard convention of `'.' = empty space, 'x' = wall, 'o' = food`.\n",
    "- Bots can get stuck if spawned between walls or other bots (same level), unable to move for the duration of the game."
   ]
  },
  {
   "cell_type": "markdown",
   "id": "7eb7d714",
   "metadata": {},
   "source": [
    "## Testing\n",
    "\n",
    "Below runs the unit tests for the overall code, testing the WanderBot class, GridBoard class, and both of them combined."
   ]
  },
  {
   "cell_type": "code",
   "execution_count": 1,
   "id": "7e620a26",
   "metadata": {
    "scrolled": true
   },
   "outputs": [
    {
     "name": "stdout",
     "output_type": "stream",
     "text": [
      "\u001b[1m============================= test session starts ==============================\u001b[0m\n",
      "platform linux -- Python 3.9.5, pytest-7.2.0, pluggy-1.0.0\n",
      "rootdir: /home/jmw002/Final_Project_COGS18_Fa22\n",
      "plugins: anyio-3.2.1\n",
      "collected 6 items                                                              \u001b[0m\n",
      "\n",
      "agent_module/test_wander.py \u001b[32m.\u001b[0m\u001b[32m.\u001b[0m\u001b[32m.\u001b[0m\u001b[32m.\u001b[0m\u001b[32m.\u001b[0m\u001b[32m.\u001b[0m\u001b[32m                                       [100%]\u001b[0m\n",
      "\n",
      "\u001b[32m============================== \u001b[32m\u001b[1m6 passed\u001b[0m\u001b[32m in 1.51s\u001b[0m\u001b[32m ===============================\u001b[0m\n"
     ]
    }
   ],
   "source": [
    "!pytest agent_module/test_wander.py"
   ]
  },
  {
   "cell_type": "markdown",
   "id": "f933ba9d",
   "metadata": {},
   "source": [
    "## Demonstrations\n",
    "\n",
    "Below are two demonstrations of the code.\n",
    "\n",
    "In the first one below, a custom, premade grid is used and 6 bots are sent in to play."
   ]
  },
  {
   "cell_type": "code",
   "execution_count": 2,
   "id": "670c50f3",
   "metadata": {},
   "outputs": [],
   "source": [
    "from agent_module.grid import GridBoard\n",
    "from agent_module.bots import WanderBot"
   ]
  },
  {
   "cell_type": "code",
   "execution_count": 3,
   "id": "91aabd50",
   "metadata": {},
   "outputs": [
    {
     "name": "stdout",
     "output_type": "stream",
     "text": [
      ". . . 5 . . .\n",
      ". x . x o x .\n",
      ". x . x . x .\n",
      ". 4 . . o . .\n",
      ". x . x . x .\n",
      ". x . x . x o\n",
      ". . 6 . . . o\n",
      "Final Survivors:\n",
      "4: level 4\n",
      "5: level 1\n",
      "6: level 6\n"
     ]
    }
   ],
   "source": [
    "bots_list = [WanderBot(ord('1')),\n",
    "             WanderBot(ord('2')),\n",
    "             WanderBot(ord('3')),\n",
    "             WanderBot(ord('4')),\n",
    "             WanderBot(ord('5')),\n",
    "             WanderBot(ord('6'))]\n",
    "my_grid = [['.', '.', '.', '.', '.', 'o', '.'],\n",
    "           ['.', 'x', '.', 'x', '.', 'x', '.'],\n",
    "           ['.', 'x', '.', 'x', '.', 'x', '.'],\n",
    "           ['o', '.', '.', '.', '.', '.', '.'],\n",
    "           ['.', 'x', '.', 'x', '.', 'x', '.'],\n",
    "           ['.', 'x', 'o', 'x', '.', 'x', '.'],\n",
    "           ['.', '.', '.', '.', '.', '.', 'o']]\n",
    "\n",
    "grid = GridBoard(custom_grid_list=my_grid)\n",
    "grid.play_board(bots=bots_list, n_iter=25, restock_rate=5, restock_amount=1)"
   ]
  },
  {
   "cell_type": "markdown",
   "id": "e5878892",
   "metadata": {},
   "source": [
    "In this second demonstration, a randomly generated grid is used with more bots sent in. Values can be adjusted to create different boards and scenarios."
   ]
  },
  {
   "cell_type": "code",
   "execution_count": 4,
   "id": "b0d95414",
   "metadata": {},
   "outputs": [
    {
     "name": "stdout",
     "output_type": "stream",
     "text": [
      ". x x o x o x x Ų ŝ\n",
      ". . . x o o o . x x\n",
      "x x . . x o . o . o\n",
      ". . Ŗ . . x o . . x\n",
      ". o . . . . x ĺ o .\n",
      ". x x . . . . . . x\n",
      "ĳ . . x . . x . . x\n",
      ". x x x . o x . o o\n",
      "ŏ . x . . x . x . .\n",
      ". . . . x o o x . x\n",
      "Final Survivors:\n",
      "ĳ: level 5\n",
      "ĺ: level 8\n",
      "ŏ: level 2\n",
      "Ŗ: level 13\n",
      "ŝ: level 1\n",
      "Ų: level 1\n"
     ]
    }
   ],
   "source": [
    "# Adjust these variables to see different kinds of boards and games\n",
    "num_bots = 12\n",
    "grid_size = 10\n",
    "num_walls = 30\n",
    "num_food = 15\n",
    "num_iters = 30\n",
    "restock_rate = 5\n",
    "restock_amount = 3\n",
    "\n",
    "\n",
    "bots_list_2 = [WanderBot(300 + num * 7) for num in range(num_bots)]\n",
    "\n",
    "grid = GridBoard(grid_size=grid_size, num_walls=num_walls, num_food=num_food)\n",
    "grid.play_board(bots=bots_list_2, n_iter=num_iters, restock_rate=restock_rate, restock_amount=restock_amount)"
   ]
  },
  {
   "cell_type": "code",
   "execution_count": null,
   "id": "67ddf575",
   "metadata": {},
   "outputs": [],
   "source": []
  }
 ],
 "metadata": {
  "kernelspec": {
   "display_name": "Python 3 (clean)",
   "language": "python",
   "name": "python3_clean"
  },
  "language_info": {
   "codemirror_mode": {
    "name": "ipython",
    "version": 3
   },
   "file_extension": ".py",
   "mimetype": "text/x-python",
   "name": "python",
   "nbconvert_exporter": "python",
   "pygments_lexer": "ipython3",
   "version": "3.9.5"
  }
 },
 "nbformat": 4,
 "nbformat_minor": 5
}
